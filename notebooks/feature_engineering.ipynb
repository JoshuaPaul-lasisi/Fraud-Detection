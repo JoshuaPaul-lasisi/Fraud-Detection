{
 "cells": [
  {
   "cell_type": "code",
   "execution_count": null,
   "metadata": {},
   "outputs": [],
   "source": [
    "# Load the data\n",
    "import pandas as pd\n",
    "data = pd.read_csv('../data/raw/credit.csv')"
   ]
  },
  {
   "cell_type": "markdown",
   "metadata": {},
   "source": [
    "## feature engineering"
   ]
  },
  {
   "cell_type": "code",
   "execution_count": 8,
   "metadata": {},
   "outputs": [],
   "source": [
    "# Split the data into X and y\n",
    "from sklearn.model_selection import train_test_split\n",
    "X = data.drop('Class', axis=1)\n",
    "y = data['Class']\n",
    "X_train, X_test, y_train, y_test = train_test_split(X, y, test_size=0.3, random_state=42)\n",
    "\n",
    "\n",
    "# Normalize the data\n",
    "from sklearn.preprocessing import StandardScaler\n",
    "scaler = StandardScaler()\n",
    "X = scaler.fit_transform(X)"
   ]
  },
  {
   "cell_type": "markdown",
   "metadata": {},
   "source": [
    "## model development"
   ]
  },
  {
   "cell_type": "code",
   "execution_count": 10,
   "metadata": {},
   "outputs": [
    {
     "name": "stdout",
     "output_type": "stream",
     "text": [
      "Model: Logistic Regression\n",
      "ROC AUC: 0.9998606385147815\n",
      "Classification Report:               precision    recall  f1-score        support\n",
      "0              0.998087  0.998908  0.998497   85149.000000\n",
      "1              0.998911  0.998092  0.998501   85440.000000\n",
      "accuracy       0.998499  0.998499  0.998499       0.998499\n",
      "macro avg      0.998499  0.998500  0.998499  170589.000000\n",
      "weighted avg   0.998500  0.998499  0.998499  170589.000000\n",
      "Model: Random Forest\n",
      "ROC AUC: 0.9999930099536247\n",
      "Classification Report:               precision    recall  f1-score        support\n",
      "0              0.999718  0.999918  0.999818   85149.000000\n",
      "1              0.999918  0.999719  0.999819   85440.000000\n",
      "accuracy       0.999818  0.999818  0.999818       0.999818\n",
      "macro avg      0.999818  0.999818  0.999818  170589.000000\n",
      "weighted avg   0.999818  0.999818  0.999818  170589.000000\n",
      "Model: XGBoost\n",
      "ROC AUC: 0.9999860812119913\n",
      "Classification Report:               precision    recall  f1-score        support\n",
      "0              0.999730  0.999871  0.999800   85149.000000\n",
      "1              0.999871  0.999731  0.999801   85440.000000\n",
      "accuracy       0.999801  0.999801  0.999801       0.999801\n",
      "macro avg      0.999801  0.999801  0.999801  170589.000000\n",
      "weighted avg   0.999801  0.999801  0.999801  170589.000000\n",
      "Model: LightGBM\n",
      "ROC AUC: 0.9999028494410965\n",
      "Classification Report:               precision    recall  f1-score       support\n",
      "0              0.999706  0.999812  0.999759   85149.00000\n",
      "1              0.999813  0.999707  0.999760   85440.00000\n",
      "accuracy       0.999760  0.999760  0.999760       0.99976\n",
      "macro avg      0.999760  0.999760  0.999760  170589.00000\n",
      "weighted avg   0.999760  0.999760  0.999760  170589.00000\n"
     ]
    }
   ],
   "source": [
    "from sklearn.linear_model import LogisticRegression\n",
    "from sklearn.ensemble import RandomForestClassifier\n",
    "from sklearn.pipeline import Pipeline\n",
    "from xgboost import XGBClassifier\n",
    "from lightgbm import LGBMClassifier\n",
    "from sklearn.metrics import classification_report, roc_auc_score\n",
    "import pandas as pd\n",
    "\n",
    "# Define models\n",
    "models = {\n",
    "    'Logistic Regression': LogisticRegression(max_iter=1000, random_state=42),\n",
    "    'Random Forest': RandomForestClassifier(random_state=42),\n",
    "    'XGBoost': XGBClassifier(eval_metric='logloss', random_state=42),\n",
    "    'LightGBM': LGBMClassifier(random_state=42, verbose=-1)\n",
    "}\n",
    "\n",
    "# Evaluate models\n",
    "results = {}\n",
    "\n",
    "for name, model in models.items():\n",
    "    pipeline = Pipeline([\n",
    "        ('scaler', StandardScaler()),\n",
    "        ('classifier', model)\n",
    "    ])\n",
    "    \n",
    "    pipeline.fit(X_train, y_train)\n",
    "    y_pred = pipeline.predict(X_test)\n",
    "    y_proba = pipeline.predict_proba(X_test)[:, 1]\n",
    "    \n",
    "    results[name] = {\n",
    "        'Classification Report': classification_report(y_test, y_pred, output_dict=True),\n",
    "        'ROC AUC': roc_auc_score(y_test, y_proba)\n",
    "    }\n",
    "\n",
    "# Display results\n",
    "for model_name, metrics in results.items():\n",
    "    print(f\"Model: {model_name}\")\n",
    "    print(\"ROC AUC:\", metrics['ROC AUC'])\n",
    "    print(\"Classification Report:\", pd.DataFrame(metrics['Classification Report']).T)"
   ]
  },
  {
   "cell_type": "markdown",
   "metadata": {},
   "source": [
    "### pick best model"
   ]
  },
  {
   "cell_type": "code",
   "execution_count": null,
   "metadata": {},
   "outputs": [
    {
     "name": "stdout",
     "output_type": "stream",
     "text": [
      "Best Model: Random Forest\n",
      "ROC AUC: 0.9999930099536247\n"
     ]
    }
   ],
   "source": [
    "# Initialize variables to track the best model\n",
    "best_model = None\n",
    "best_roc_auc = -1  # Start with a very low ROC AUC\n",
    "\n",
    "# Iterate through the results\n",
    "for model_name, metrics in results.items():\n",
    "    roc_auc = metrics[\"ROC AUC\"]  # Access ROC AUC for the current model\n",
    "    if roc_auc > best_roc_auc:  # Update if a better ROC AUC is found\n",
    "        best_model = model_name\n",
    "        best_roc_auc = roc_auc\n",
    "\n",
    "# Print the best model and its ROC AUC\n",
    "print(f\"Best Model: {best_model}\")\n",
    "print(f\"ROC AUC: {best_roc_auc}\")"
   ]
  },
  {
   "cell_type": "code",
   "execution_count": null,
   "metadata": {},
   "outputs": [],
   "source": []
  }
 ],
 "metadata": {
  "kernelspec": {
   "display_name": "Python 3",
   "language": "python",
   "name": "python3"
  },
  "language_info": {
   "codemirror_mode": {
    "name": "ipython",
    "version": 3
   },
   "file_extension": ".py",
   "mimetype": "text/x-python",
   "name": "python",
   "nbconvert_exporter": "python",
   "pygments_lexer": "ipython3",
   "version": "3.12.1"
  }
 },
 "nbformat": 4,
 "nbformat_minor": 2
}
