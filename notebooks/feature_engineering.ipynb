{
 "cells": [
  {
   "cell_type": "code",
   "execution_count": null,
   "metadata": {},
   "outputs": [],
   "source": [
    "# Load the data\n",
    "import pandas as pd\n",
    "data = pd.read_csv('../data/raw/credit.csv')"
   ]
  },
  {
   "cell_type": "markdown",
   "metadata": {},
   "source": [
    "## feature engineering"
   ]
  },
  {
   "cell_type": "code",
   "execution_count": 8,
   "metadata": {},
   "outputs": [],
   "source": [
    "# Split the data into X and y\n",
    "from sklearn.model_selection import train_test_split\n",
    "X = data.drop('Class', axis=1)\n",
    "y = data['Class']\n",
    "X_train, X_test, y_train, y_test = train_test_split(X, y, test_size=0.3, random_state=42)\n",
    "\n",
    "\n",
    "# Normalize the data\n",
    "from sklearn.preprocessing import StandardScaler\n",
    "scaler = StandardScaler()\n",
    "X = scaler.fit_transform(X)"
   ]
  },
  {
   "cell_type": "markdown",
   "metadata": {},
   "source": [
    "## model development"
   ]
  },
  {
   "cell_type": "code",
   "execution_count": null,
   "metadata": {},
   "outputs": [],
   "source": [
    "from sklearn.linear_model import LogisticRegression\n",
    "from sklearn.ensemble import RandomForestClassifier\n",
    "from sklearn.pipeline import Pipeline\n",
    "from xgboost import XGBClassifier\n",
    "from lightgbm import LGBMClassifier\n",
    "from sklearn.metrics import classification_report, roc_auc_score\n",
    "import pandas as pd\n",
    "\n",
    "# Define models\n",
    "models = {\n",
    "    'Logistic Regression': LogisticRegression(max_iter=1000, random_state=42),\n",
    "    'Random Forest': RandomForestClassifier(random_state=42),\n",
    "    'XGBoost': XGBClassifier(eval_metric='logloss', random_state=42),\n",
    "    'LightGBM': LGBMClassifier(random_state=42, verbose=-1)\n",
    "}\n",
    "\n",
    "# Evaluate models\n",
    "results = {}\n",
    "\n",
    "for name, model in models.items():\n",
    "    pipeline = Pipeline([\n",
    "        ('scaler', StandardScaler()),\n",
    "        ('classifier', model)\n",
    "    ])\n",
    "    \n",
    "    pipeline.fit(X_train, y_train)\n",
    "    y_pred = pipeline.predict(X_test)\n",
    "    y_proba = pipeline.predict_proba(X_test)[:, 1]\n",
    "    \n",
    "    results[name] = {\n",
    "        'Classification Report': classification_report(y_test, y_pred, output_dict=True),\n",
    "        'ROC AUC': roc_auc_score(y_test, y_proba)\n",
    "    }\n",
    "\n",
    "# Display results\n",
    "for model_name, metrics in results.items():\n",
    "    print(f\"Model: {model_name}\")\n",
    "    print(\"ROC AUC:\", metrics['ROC AUC'])\n",
    "    print(\"Classification Report:\", pd.DataFrame(metrics['Classification Report']).T)"
   ]
  },
  {
   "cell_type": "code",
   "execution_count": null,
   "metadata": {},
   "outputs": [],
   "source": [
    "def select_best_model(results, criterion=\"ROC AUC\"):\n",
    "    \"\"\"\n",
    "    Selects the best model based on a specified evaluation criterion.\n",
    "\n",
    "    Parameters:\n",
    "    results (dict): A dictionary containing model names as keys and their evaluation metrics as values.\n",
    "                    Example format:\n",
    "                    {\n",
    "                        'Model 1': {'ROC AUC': 0.95, 'Accuracy': 0.90},\n",
    "                        'Model 2': {'ROC AUC': 0.96, 'Accuracy': 0.92}\n",
    "                    }\n",
    "    criterion (str): The evaluation metric to use for selecting the best model. Default is 'ROC AUC'.\n",
    "\n",
    "    Returns:\n",
    "    str: The name of the best model.\n",
    "    dict: The evaluation metrics of the best model.\n",
    "    \"\"\"\n",
    "    # Validate criterion\n",
    "    if criterion not in next(iter(results.values())).keys():\n",
    "        raise ValueError(f\"Invalid criterion '{criterion}'. Available options: {list(next(iter(results.values())).keys())}\")\n",
    "    \n",
    "    # Find the best model\n",
    "    best_model = max(results.items(), key=lambda x: x[1][criterion])\n",
    "    return best_model[0], best_model[1]\n",
    "\n",
    "# Example usage with the provided results\n",
    "results = {\n",
    "    'Logistic Regression': {'ROC AUC': 0.9998606385147815, 'Accuracy': 0.998499},\n",
    "    'Random Forest': {'ROC AUC': 0.9999930099536247, 'Accuracy': 0.999818},\n",
    "    'XGBoost': {'ROC AUC': 0.9999860812119913, 'Accuracy': 0.999801},\n",
    "    'LightGBM': {'ROC AUC': 0.9999028494410965, 'Accuracy': 0.999760}\n",
    "}\n",
    "\n",
    "# Choose the best model based on ROC AUC\n",
    "best_model_name, best_model_metrics = select_best_model(results, criterion=\"ROC AUC\")\n",
    "print(f\"Best Model: {best_model_name}\")\n",
    "print(f\"Metrics: {best_model_metrics}\")"
   ]
  }
 ],
 "metadata": {
  "kernelspec": {
   "display_name": "Python 3",
   "language": "python",
   "name": "python3"
  },
  "language_info": {
   "codemirror_mode": {
    "name": "ipython",
    "version": 3
   },
   "file_extension": ".py",
   "mimetype": "text/x-python",
   "name": "python",
   "nbconvert_exporter": "python",
   "pygments_lexer": "ipython3",
   "version": "3.12.1"
  }
 },
 "nbformat": 4,
 "nbformat_minor": 2
}
